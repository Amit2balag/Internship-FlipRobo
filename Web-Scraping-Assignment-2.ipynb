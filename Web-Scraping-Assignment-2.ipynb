{
 "cells": [
  {
   "cell_type": "code",
   "execution_count": null,
   "id": "67d27148",
   "metadata": {},
   "outputs": [],
   "source": [
    "# Q1: Write a python program to scrape data for “Data Analyst” Job position in “Bangalore” location. \n",
    "#You have to scrape the job-title, job-location, company_name, experience_required. \n",
    "#You have to scrape first 10 jobs data."
   ]
  },
  {
   "cell_type": "code",
   "execution_count": null,
   "id": "ddf27837",
   "metadata": {},
   "outputs": [],
   "source": [
    "!pip install selenium\n",
    "import selenium\n",
    "from selenium import webdriver\n",
    "import pandas as pd"
   ]
  },
  {
   "cell_type": "code",
   "execution_count": null,
   "id": "fbd23972",
   "metadata": {},
   "outputs": [],
   "source": [
    "driver = webdriver.Chrome(\"C:/Users/Admin/Documents/Internship/chromedriver_win32/chromedriver.exe\")"
   ]
  },
  {
   "cell_type": "code",
   "execution_count": null,
   "id": "7253df49",
   "metadata": {},
   "outputs": [],
   "source": [
    "driver.get(\"https://www.naukri.com/\")"
   ]
  },
  {
   "cell_type": "code",
   "execution_count": null,
   "id": "dc7faa09",
   "metadata": {},
   "outputs": [],
   "source": [
    "search_job = driver.find_element_by_id('qsb-keyword-sugg')\n",
    "search_job.send_keys(\"Data Analyst\")\n",
    "search_loc = driver.find_element_by_xpath(\"//input[@id='qsb-location-sugg']\")\n",
    "search_loc.send_keys(\"Bangalore\")"
   ]
  },
  {
   "cell_type": "code",
   "execution_count": null,
   "id": "9a23ade5",
   "metadata": {},
   "outputs": [],
   "source": [
    "search_button = driver.find_element_by_xpath(\"//div[@class = 'search-btn']/button\")\n",
    "search_button.click()"
   ]
  },
  {
   "cell_type": "code",
   "execution_count": null,
   "id": "8f198510",
   "metadata": {},
   "outputs": [],
   "source": [
    "job_titles = []\n",
    "Company_names = []\n",
    "Location = []\n",
    "Exp = []"
   ]
  },
  {
   "cell_type": "code",
   "execution_count": null,
   "id": "34517c63",
   "metadata": {},
   "outputs": [],
   "source": [
    "title_tags = driver.find_elements_by_xpath(\"//a[@class='title fw500 ellipsis']\")\n",
    "title_tags[0:10]\n",
    "for i in title_tags:\n",
    "    title=i.text\n",
    "    job_titles.append(title)\n",
    "job_titles[0:10]"
   ]
  },
  {
   "cell_type": "code",
   "execution_count": null,
   "id": "e2505d54",
   "metadata": {},
   "outputs": [],
   "source": [
    "Company_tags = driver.find_elements_by_xpath(\"//a[@class='subTitle ellipsis fleft']\")\n",
    "Company_tags[0:10]\n",
    "for i in Company_tags:\n",
    "    title=i.text\n",
    "    Company_names.append(title)\n",
    "Company_names[0:10]"
   ]
  },
  {
   "cell_type": "code",
   "execution_count": null,
   "id": "8be86ca2",
   "metadata": {},
   "outputs": [],
   "source": [
    "Location_tags = driver.find_elements_by_xpath(\"//li[@class='fleft grey-text br2 placeHolderLi location']\")\n",
    "Location_tags[0:10]\n",
    "for i in Location_tags:\n",
    "    title=i.text\n",
    "    Location.append(title)\n",
    "Location[0:10]"
   ]
  },
  {
   "cell_type": "code",
   "execution_count": null,
   "id": "f635f670",
   "metadata": {},
   "outputs": [],
   "source": [
    "Exp_tags = driver.find_elements_by_xpath(\"//li[@class='fleft grey-text br2 placeHolderLi experience']\")\n",
    "Exp_tags[0:10]\n",
    "for i in Exp_tags:\n",
    "    title=i.text\n",
    "    Exp.append(title)\n",
    "Exp[0:10]"
   ]
  },
  {
   "cell_type": "code",
   "execution_count": null,
   "id": "4f665f9a",
   "metadata": {},
   "outputs": [],
   "source": [
    "Job = pd.DataFrame({})\n",
    "Job['job_titles'] = job_titles[0:10]\n",
    "Job['Commpany_names'] = Company_names[0:10]\n",
    "Job['Location'] = Location[0:10]\n",
    "Job['Exp'] = Exp[0:10]\n",
    "Job"
   ]
  },
  {
   "cell_type": "code",
   "execution_count": null,
   "id": "7d6f73c7",
   "metadata": {},
   "outputs": [],
   "source": [
    "driver.close()"
   ]
  },
  {
   "cell_type": "code",
   "execution_count": null,
   "id": "24e84ec5",
   "metadata": {},
   "outputs": [],
   "source": [
    "# Q2: Write a python program to scrape data for “Data Scientist” Job position in “Bangalore” location. \n",
    "#You have to scrape the job-title, job-location, company_name, full job-description. \n",
    "#You have to scrape first 10 jobs data."
   ]
  },
  {
   "cell_type": "code",
   "execution_count": null,
   "id": "310cb03b",
   "metadata": {},
   "outputs": [],
   "source": [
    "driver = webdriver.Chrome(\"C:/Users/Admin/Documents/Internship/chromedriver_win32/chromedriver.exe\")"
   ]
  },
  {
   "cell_type": "code",
   "execution_count": null,
   "id": "c8da68c0",
   "metadata": {},
   "outputs": [],
   "source": [
    "driver.get(\"https://www.naukri.com/\")\n",
    "search_job = driver.find_element_by_id('qsb-keyword-sugg')\n",
    "search_job.send_keys(\"Data Scientist\")\n",
    "search_loc = driver.find_element_by_xpath(\"//input[@id='qsb-location-sugg']\")\n",
    "search_loc.send_keys(\"Bangalore\")\n",
    "search_button = driver.find_element_by_xpath(\"//div[@class = 'search-btn']/button\")\n",
    "search_button.click()"
   ]
  },
  {
   "cell_type": "code",
   "execution_count": null,
   "id": "4e30fa6d",
   "metadata": {},
   "outputs": [],
   "source": [
    "job_titles = []\n",
    "Company_names = []\n",
    "Location = []\n",
    "Exp = []"
   ]
  },
  {
   "cell_type": "code",
   "execution_count": null,
   "id": "45a0bd3d",
   "metadata": {},
   "outputs": [],
   "source": [
    "title_tags = driver.find_elements_by_xpath(\"//a[@class='title fw500 ellipsis']\")\n",
    "title_tags[0:10]\n",
    "for i in title_tags:\n",
    "    title=i.text\n",
    "    job_titles.append(title)\n",
    "job_titles[0:10]"
   ]
  },
  {
   "cell_type": "code",
   "execution_count": null,
   "id": "54c679f6",
   "metadata": {},
   "outputs": [],
   "source": [
    "Company_tags = driver.find_elements_by_xpath(\"//a[@class='subTitle ellipsis fleft']\")\n",
    "Company_tags[0:10]\n",
    "for i in Company_tags:\n",
    "    title=i.text\n",
    "    Company_names.append(title)\n",
    "Company_names[0:10]"
   ]
  },
  {
   "cell_type": "code",
   "execution_count": null,
   "id": "ac45c132",
   "metadata": {},
   "outputs": [],
   "source": [
    "Location_tags = driver.find_elements_by_xpath(\"//li[@class='fleft grey-text br2 placeHolderLi location']\")\n",
    "Location_tags[0:10]\n",
    "for i in Location_tags:\n",
    "    title=i.text\n",
    "    Location.append(title)\n",
    "Location[0:10]"
   ]
  },
  {
   "cell_type": "code",
   "execution_count": null,
   "id": "3aee600c",
   "metadata": {},
   "outputs": [],
   "source": [
    "Exp_tags = driver.find_elements_by_xpath(\"//li[@class='fleft grey-text br2 placeHolderLi experience']\")\n",
    "Exp_tags[0:10]\n",
    "for i in Exp_tags:\n",
    "    title=i.text\n",
    "    Exp.append(title)\n",
    "Exp[0:10]"
   ]
  },
  {
   "cell_type": "code",
   "execution_count": null,
   "id": "7989c885",
   "metadata": {},
   "outputs": [],
   "source": [
    "Job = pd.DataFrame({})\n",
    "Job['job_titles'] = job_titles[0:10]\n",
    "Job['Commpany_names'] = Company_names[0:10]\n",
    "Job['Location'] = Location[0:10]\n",
    "Job['Exp'] = Exp[0:10]"
   ]
  },
  {
   "cell_type": "code",
   "execution_count": null,
   "id": "a970d08b",
   "metadata": {},
   "outputs": [],
   "source": [
    "Job"
   ]
  },
  {
   "cell_type": "code",
   "execution_count": null,
   "id": "d362b40c",
   "metadata": {},
   "outputs": [],
   "source": [
    "driver.close()"
   ]
  },
  {
   "cell_type": "code",
   "execution_count": null,
   "id": "331ab167",
   "metadata": {},
   "outputs": [],
   "source": [
    "# Dataframe aloongwith JD"
   ]
  },
  {
   "cell_type": "code",
   "execution_count": null,
   "id": "f1f72742",
   "metadata": {},
   "outputs": [],
   "source": [
    "driver = webdriver.Chrome(\"C:/Users/Admin/Documents/Internship/chromedriver_win32/chromedriver.exe\")"
   ]
  },
  {
   "cell_type": "code",
   "execution_count": null,
   "id": "20ac9da1",
   "metadata": {},
   "outputs": [],
   "source": [
    "driver.get(\"https://www.naukri.com/data-scientist-jobs-in-bangalore?k=data%20scientist&l=bangalore\")"
   ]
  },
  {
   "cell_type": "code",
   "execution_count": null,
   "id": "739208f4",
   "metadata": {},
   "outputs": [],
   "source": [
    "url = []\n",
    "for i in driver.find_elements_by_xpath(\"//a[@class='title fw500 ellipsis']\"):\n",
    "    url.append(i.get_attribute('href'))\n",
    "url"
   ]
  },
  {
   "cell_type": "code",
   "execution_count": null,
   "id": "2fdbc7d6",
   "metadata": {},
   "outputs": [],
   "source": [
    "job_title = []\n",
    "JD = []\n",
    "len(url)"
   ]
  },
  {
   "cell_type": "code",
   "execution_count": null,
   "id": "dd56b0db",
   "metadata": {},
   "outputs": [],
   "source": [
    "import time\n",
    "for i in url:\n",
    "    driver.get(i)\n",
    "    time.sleep(5)\n",
    "    \n",
    "    ##for job titles\n",
    "    try:\n",
    "        job = driver.find_element_by_xpath(\"//h1[@class = 'jd-header-title']\") ##use @ inside the bracket for results\n",
    "        job_title.append(job.text.replace(\"/n\", \"new line\"))\n",
    "    except:\n",
    "        job_title.append('_')\n",
    "        \n",
    "    ### for JD\n",
    "    try:\n",
    "        Job_D = driver.find_element_by_xpath(\"//section[@class = 'job-desc']\")\n",
    "        JD.append(Job_D.text)\n",
    "    except:\n",
    "        JD.append('_')"
   ]
  },
  {
   "cell_type": "code",
   "execution_count": null,
   "id": "2e364d02",
   "metadata": {},
   "outputs": [],
   "source": [
    "JD  ##if the specified url leads to any other link the JD won't appear here as output"
   ]
  },
  {
   "cell_type": "code",
   "execution_count": null,
   "id": "f55909a0",
   "metadata": {},
   "outputs": [],
   "source": [
    "job_title"
   ]
  },
  {
   "cell_type": "code",
   "execution_count": null,
   "id": "2a8ac16d",
   "metadata": {},
   "outputs": [],
   "source": [
    "Job = pd.DataFrame({})\n",
    "Job['job_title'] = job_title[0:10]\n",
    "Job['JD'] = JD[0:10]\n",
    "Job"
   ]
  },
  {
   "cell_type": "code",
   "execution_count": null,
   "id": "c9624f94",
   "metadata": {},
   "outputs": [],
   "source": [
    "driver.close()"
   ]
  },
  {
   "cell_type": "code",
   "execution_count": null,
   "id": "b8467186",
   "metadata": {},
   "outputs": [],
   "source": [
    "#Q3: In this question you have to scrape data using the filters available on the webpage"
   ]
  },
  {
   "cell_type": "code",
   "execution_count": null,
   "id": "4988df4c",
   "metadata": {},
   "outputs": [],
   "source": [
    "driver = webdriver.Chrome(\"C:/Users/Admin/Documents/Internship/chromedriver_win32/chromedriver.exe\")"
   ]
  },
  {
   "cell_type": "code",
   "execution_count": null,
   "id": "e9b2b388",
   "metadata": {},
   "outputs": [],
   "source": [
    "driver.get(\"https://www.naukri.com/\")"
   ]
  },
  {
   "cell_type": "code",
   "execution_count": null,
   "id": "f364ddb3",
   "metadata": {},
   "outputs": [],
   "source": [
    "search_job = driver.find_element_by_id('qsb-keyword-sugg')\n",
    "search_job.send_keys(\"Data Scientist\")\n",
    "search_button = driver.find_element_by_xpath(\"//div[@class = 'search-btn']/button\")\n",
    "search_button.click()"
   ]
  },
  {
   "cell_type": "code",
   "execution_count": null,
   "id": "263c670b",
   "metadata": {},
   "outputs": [],
   "source": [
    "fltr_btn = driver.find_elements_by_xpath(\"//i[@class = 'ellipsis fleft']\")\n",
    "for i in fltr_btn:\n",
    "    if i.text == 'Delhi/NCR':\n",
    "        i.click()\n",
    "        break"
   ]
  },
  {
   "cell_type": "code",
   "execution_count": null,
   "id": "70386bb4",
   "metadata": {},
   "outputs": [],
   "source": [
    "fltr_btn = driver.find_elements_by_xpath(\"//span[@class = 'ellipsis fleft']\")\n",
    "for i in fltr_btn:\n",
    "    if i.text == '3-6 Lakhs':\n",
    "        i.click()\n",
    "        break"
   ]
  },
  {
   "cell_type": "code",
   "execution_count": null,
   "id": "72dad9b4",
   "metadata": {},
   "outputs": [],
   "source": [
    "job_titles = []\n",
    "Company_names = []\n",
    "Location = []\n",
    "Exp = []"
   ]
  },
  {
   "cell_type": "code",
   "execution_count": null,
   "id": "3a046827",
   "metadata": {},
   "outputs": [],
   "source": [
    "title_tags = driver.find_elements_by_xpath(\"//a[@class='title fw500 ellipsis']\")\n",
    "title_tags[0:10]\n",
    "for i in title_tags:\n",
    "    title=i.text\n",
    "    job_titles.append(title)\n",
    "job_titles[0:10]"
   ]
  },
  {
   "cell_type": "code",
   "execution_count": null,
   "id": "bbb97691",
   "metadata": {},
   "outputs": [],
   "source": [
    "Company_tags = driver.find_elements_by_xpath(\"//a[@class='subTitle ellipsis fleft']\")\n",
    "Company_tags[0:10]\n",
    "for i in Company_tags:\n",
    "    title=i.text\n",
    "    Company_names.append(title)\n",
    "Company_names[0:10]"
   ]
  },
  {
   "cell_type": "code",
   "execution_count": null,
   "id": "442b6cc9",
   "metadata": {},
   "outputs": [],
   "source": [
    "Location_tags = driver.find_elements_by_xpath(\"//li[@class='fleft grey-text br2 placeHolderLi location']\")\n",
    "Location_tags[0:10]\n",
    "for i in Location_tags:\n",
    "    title=i.text\n",
    "    Location.append(title)\n",
    "Location[0:10]"
   ]
  },
  {
   "cell_type": "code",
   "execution_count": null,
   "id": "5d39591b",
   "metadata": {},
   "outputs": [],
   "source": [
    "Exp_tags = driver.find_elements_by_xpath(\"//li[@class='fleft grey-text br2 placeHolderLi experience']\")\n",
    "Exp_tags[0:10]\n",
    "for i in Exp_tags:\n",
    "    title=i.text\n",
    "    Exp.append(title)\n",
    "Exp[0:10]"
   ]
  },
  {
   "cell_type": "code",
   "execution_count": null,
   "id": "825571ab",
   "metadata": {},
   "outputs": [],
   "source": [
    "Job = pd.DataFrame({})\n",
    "Job['job_titles'] = job_titles[0:10]\n",
    "Job['Commpany_names'] = Company_names[0:10]\n",
    "Job['Location'] = Location[0:10]\n",
    "Job['Exp'] = Exp[0:10]\n",
    "Job"
   ]
  },
  {
   "cell_type": "code",
   "execution_count": null,
   "id": "9f032598",
   "metadata": {},
   "outputs": [],
   "source": [
    "driver.close()"
   ]
  },
  {
   "cell_type": "code",
   "execution_count": null,
   "id": "710c4b23",
   "metadata": {},
   "outputs": [],
   "source": [
    "#Q4: Write a python program to scrape data for first 10 job results for Data scientist Designation in Noida location. \n",
    "#You have to scrape company_name, No. of days ago when job was posted, Rating of the company."
   ]
  },
  {
   "cell_type": "code",
   "execution_count": null,
   "id": "a3d81147",
   "metadata": {},
   "outputs": [],
   "source": [
    "driver = webdriver.Chrome(\"C:/Users/Admin/Documents/Internship/chromedriver_win32/chromedriver.exe\")"
   ]
  },
  {
   "cell_type": "code",
   "execution_count": null,
   "id": "a4843b65",
   "metadata": {},
   "outputs": [],
   "source": [
    "driver.get(\"https://www.glassdoor.co.in/index.htm\")"
   ]
  },
  {
   "cell_type": "code",
   "execution_count": null,
   "id": "8c988882",
   "metadata": {},
   "outputs": [],
   "source": [
    "search_loc = driver.find_element_by_xpath(\"//input[@id='sc.keyword']\")\n",
    "search_loc.send_keys(\"Data Scientist\")\n",
    "search_loc = driver.find_element_by_xpath(\"//input[@id='sc.location']\")\n",
    "search_loc.send_keys(\"Noida\")"
   ]
  },
  {
   "cell_type": "code",
   "execution_count": null,
   "id": "0ac7c9d9",
   "metadata": {},
   "outputs": [],
   "source": [
    "fltr_btn = driver.find_elements_by_xpath(\"//span[@class = 'css-8zxfjs']\")\n",
    "for i in fltr_btn:\n",
    "    if i.text == 'Search':\n",
    "        i.click()\n",
    "        break"
   ]
  },
  {
   "cell_type": "code",
   "execution_count": null,
   "id": "eb645b19",
   "metadata": {},
   "outputs": [],
   "source": [
    "job_titles = []\n",
    "Company_names = []\n",
    "Location = []\n",
    "Rating = []\n",
    "Job_posted = []"
   ]
  },
  {
   "cell_type": "code",
   "execution_count": null,
   "id": "319fdd77",
   "metadata": {},
   "outputs": [],
   "source": [
    "title_tags = driver.find_elements_by_xpath(\"//a[@class='jobLink job-search-key-1rd3saf eigr9kq1']\")\n",
    "title_tags[0:10]\n",
    "for i in title_tags:\n",
    "    title=i.text\n",
    "    job_titles.append(title)\n",
    "job_titles[0:10]"
   ]
  },
  {
   "cell_type": "code",
   "execution_count": null,
   "id": "30bd98e6",
   "metadata": {},
   "outputs": [],
   "source": [
    "Company_tags = driver.find_elements_by_xpath(\"//div[@class='d-flex justify-content-between align-items-start']\")\n",
    "Company_tags[0:10]\n",
    "for i in Company_tags:\n",
    "    title=i.text\n",
    "    Company_names.append(title)\n",
    "Company_names[0:10]"
   ]
  },
  {
   "cell_type": "code",
   "execution_count": null,
   "id": "2aa1734a",
   "metadata": {},
   "outputs": [],
   "source": [
    "Location_tags = driver.find_elements_by_xpath(\"//span[@class='css-1buaf54 pr-xxsm job-search-key-iii9i8 e1rrn5ka4']\")\n",
    "Location_tags[0:10]\n",
    "for i in Location_tags:\n",
    "    title=i.text\n",
    "    Location.append(title)\n",
    "Location[0:10]"
   ]
  },
  {
   "cell_type": "code",
   "execution_count": null,
   "id": "dfb3bd8d",
   "metadata": {},
   "outputs": [],
   "source": [
    "Job_posted_tags = driver.find_elements_by_xpath(\"//div[@data-test='rating']\")\n",
    "Job_posted_tags[0:10]\n",
    "for i in Job_posted_tags:\n",
    "    title=i.text\n",
    "    Job_posted.append(title)\n",
    "Job_posted[0:10]"
   ]
  },
  {
   "cell_type": "code",
   "execution_count": null,
   "id": "16293192",
   "metadata": {},
   "outputs": [],
   "source": [
    "Job = pd.DataFrame({})\n",
    "Job['job_titles'] = job_titles[0:10]\n",
    "Job['Commpany_names'] = Company_names[0:10]\n",
    "Job['Location'] = Location[0:10]\n",
    "Job['Job_posted'] = Job_posted[0:10]\n",
    "Job"
   ]
  },
  {
   "cell_type": "code",
   "execution_count": null,
   "id": "58eb8a9e",
   "metadata": {},
   "outputs": [],
   "source": [
    "driver.close()"
   ]
  },
  {
   "cell_type": "code",
   "execution_count": null,
   "id": "ede14316",
   "metadata": {},
   "outputs": [],
   "source": [
    "#Q5: Write a python program to scrape the salary data for Data Scientist designation in Noida location."
   ]
  },
  {
   "cell_type": "code",
   "execution_count": null,
   "id": "94771dd6",
   "metadata": {},
   "outputs": [],
   "source": [
    "driver.get(\"https://www.glassdoor.co.in/Salaries/index.htm\")"
   ]
  },
  {
   "cell_type": "code",
   "execution_count": null,
   "id": "45d79fe5",
   "metadata": {},
   "outputs": [],
   "source": [
    "search_loc = driver.find_element_by_xpath(\"//input[@id='KeywordSearch']\")\n",
    "search_loc.send_keys(\"Data Scientist\")\n",
    "search_loc = driver.find_element_by_xpath(\"//input[@id='LocationSearch']\")\n",
    "search_loc.send_keys(\"Noida\")"
   ]
  },
  {
   "cell_type": "code",
   "execution_count": null,
   "id": "12a5ef67",
   "metadata": {},
   "outputs": [],
   "source": [
    "search_button = driver.find_element_by_xpath(\"//button[@class = 'gd-btn-mkt']\")\n",
    "search_button.click()"
   ]
  },
  {
   "cell_type": "code",
   "execution_count": null,
   "id": "473b126d",
   "metadata": {},
   "outputs": [],
   "source": [
    "job_titles = []\n",
    "Company_names = []\n",
    "Noofsalries = []\n",
    "AvS = []"
   ]
  },
  {
   "cell_type": "code",
   "execution_count": null,
   "id": "db2fe381",
   "metadata": {},
   "outputs": [],
   "source": [
    "title_tags = driver.find_elements_by_xpath(\"//div[@class='col-12 col-lg px-xsm']\")\n",
    "title_tags[0:10]\n",
    "for i in title_tags:\n",
    "    title=i.text\n",
    "    job_titles.append(title)\n",
    "job_titles[0:10]"
   ]
  },
  {
   "cell_type": "code",
   "execution_count": null,
   "id": "632d95fe",
   "metadata": {},
   "outputs": [],
   "source": [
    "Company_tags = driver.find_elements_by_xpath(\"//h3[@class='m-0 css-g261rn']\")\n",
    "Company_tags[0:10]\n",
    "for i in Company_tags:\n",
    "    title=i.text\n",
    "    Company_names.append(title)\n",
    "Company_names[0:10]"
   ]
  },
  {
   "cell_type": "code",
   "execution_count": null,
   "id": "c1ccf5a8",
   "metadata": {},
   "outputs": [],
   "source": [
    "NoS_tags = driver.find_elements_by_xpath(\"//div[@class='col-12 col-lg-auto']\")\n",
    "NoS_tags[0:10]\n",
    "for i in NoS_tags:\n",
    "    title=i.text\n",
    "    Noofsalries.append(title)\n",
    "Noofsalries[0:10]"
   ]
  },
  {
   "cell_type": "code",
   "execution_count": null,
   "id": "5231dfa5",
   "metadata": {},
   "outputs": [],
   "source": [
    "AvS_tags = driver.find_elements_by_xpath(\"//div[@class='col-12 col-lg-4 px-lg-0 d-flex align-items-baseline']\")\n",
    "AvS_tags[0:10]\n",
    "for i in AvS_tags:\n",
    "    title=i.text.replace('\\n', '')\n",
    "    AvS.append(title)\n",
    "AvS[0:10]"
   ]
  },
  {
   "cell_type": "code",
   "execution_count": null,
   "id": "390a3a55",
   "metadata": {},
   "outputs": [],
   "source": [
    "Job = pd.DataFrame({})\n",
    "Job['job_titles'] = job_titles[0:10]\n",
    "Job['Company_names'] = Company_names[0:10]\n",
    "Job['Noofsalries'] = Noofsalries[0:10]\n",
    "Job['AvS'] = AvS[0:10]\n",
    "Job"
   ]
  },
  {
   "cell_type": "code",
   "execution_count": null,
   "id": "4946b5d0",
   "metadata": {},
   "outputs": [],
   "source": [
    "driver.close()"
   ]
  },
  {
   "cell_type": "code",
   "execution_count": null,
   "id": "1bbbb0d8",
   "metadata": {},
   "outputs": [],
   "source": [
    "#Q6 : Scrape data of first 100 sunglasses listings on flipkart.com. You have to scrape four attributes:"
   ]
  },
  {
   "cell_type": "code",
   "execution_count": null,
   "id": "348e4321",
   "metadata": {},
   "outputs": [],
   "source": [
    "driver = webdriver.Chrome(\"C:/Users/Admin/Documents/Internship/chromedriver_win32/chromedriver.exe\")"
   ]
  },
  {
   "cell_type": "code",
   "execution_count": null,
   "id": "303a0fb2",
   "metadata": {},
   "outputs": [],
   "source": [
    "driver.get(\"https://www.flipkart.com/\")"
   ]
  },
  {
   "cell_type": "code",
   "execution_count": null,
   "id": "c54a479d",
   "metadata": {},
   "outputs": [],
   "source": [
    "Prod = driver.find_element_by_xpath(\"//input[@type='text']\")\n",
    "Prod.send_keys(\"Sunglasses\")\n",
    "search_button = driver.find_element_by_xpath(\"//button[@class = 'L0Z3Pu']\")\n",
    "search_button.click()"
   ]
  },
  {
   "cell_type": "code",
   "execution_count": null,
   "id": "c7c718d8",
   "metadata": {},
   "outputs": [],
   "source": [
    "url = []\n",
    "for i in driver.find_elements_by_xpath(\"//a[@class='_2UzuFa']\"):\n",
    "    url.append(i.get_attribute('href'))\n",
    "url"
   ]
  },
  {
   "cell_type": "code",
   "execution_count": null,
   "id": "8a8f32e6",
   "metadata": {},
   "outputs": [],
   "source": [
    "Brand = []\n",
    "Desc = []\n",
    "Price = []\n",
    "Discount = []"
   ]
  },
  {
   "cell_type": "code",
   "execution_count": null,
   "id": "98b8fcc4",
   "metadata": {},
   "outputs": [],
   "source": [
    "import time\n",
    "for i in url:\n",
    "    driver.get(i)\n",
    "    time.sleep(5)\n",
    "    \n",
    "##Brand\n",
    "    try:\n",
    "        Brnd = driver.find_element_by_xpath(\"//span[@class = 'G6XhRU']\")\n",
    "        Brand.append(brnd.text.strip())\n",
    "    except:\n",
    "        Brand.append('_')\n",
    "        \n",
    "##Description        \n",
    "    try:\n",
    "        Des = driver.find_element_by_xpath(\"//span[@class = 'B_NuCI']\") ##use @ inside the bracket for results\n",
    "        Desc.append(Des.text.strip())\n",
    "    except:\n",
    "        Desc.append('_')\n",
    "    \n",
    "##Price\n",
    "    try:\n",
    "        Pric = driver.find_element_by_xpath(\"//div[@class = '_30jeq3 _16Jk6d']\") ##use @ inside the bracket for results\n",
    "        Price.append(Pric.text.strip())\n",
    "    except:\n",
    "        Price.append('_')\n",
    "    \n",
    "##Discount    \n",
    "    try:\n",
    "        Discoun = driver.find_element_by_xpath(\"//div[@class = '_3Ay6Sb _31Dcoz pZkvcx']\") ##use @ inside the bracket for results\n",
    "        Discount.append(Discoun.text.strip())\n",
    "    except:\n",
    "        Discount.append('_')\n",
    "##Codes are perfect run snippets saperately to get the desired results"
   ]
  },
  {
   "cell_type": "code",
   "execution_count": null,
   "id": "0652afa5",
   "metadata": {},
   "outputs": [],
   "source": [
    "Sunglasses = pd.DataFrame({})\n",
    "Sunglasses['Brand'] = Brand[0:10]\n",
    "Sunglasses['Desc'] = Desc[0:10]\n",
    "Sunglasses['Price'] = Price[0:10]\n",
    "Sunglasses['Discount'] = Discount[0:10]\n",
    "Sunglasses"
   ]
  },
  {
   "cell_type": "code",
   "execution_count": null,
   "id": "53f1a455",
   "metadata": {},
   "outputs": [],
   "source": [
    "driver.close()"
   ]
  },
  {
   "cell_type": "code",
   "execution_count": null,
   "id": "eb167367",
   "metadata": {},
   "outputs": [],
   "source": [
    "#Q7: Scrape 100 reviews data from flipkart.com for iphone11 phone."
   ]
  },
  {
   "cell_type": "code",
   "execution_count": null,
   "id": "8e0cf609",
   "metadata": {},
   "outputs": [],
   "source": [
    "driver = webdriver.Chrome(\"C:/Users/Admin/Documents/Internship/chromedriver_win32/chromedriver.exe\")"
   ]
  },
  {
   "cell_type": "code",
   "execution_count": null,
   "id": "737c96e1",
   "metadata": {},
   "outputs": [],
   "source": [
    "driver.get(\"https://www.flipkart.com/apple-iphone-11-black-64-gb-includes-earpods-power-adapter/p/itm0f37c2240b217?pid=MOBFKCTSVZAXUHGR&lid=LSTMOBFKCTSVZAXUHGREPBFGI&marketplace.\")"
   ]
  },
  {
   "cell_type": "code",
   "execution_count": null,
   "id": "d58a7424",
   "metadata": {},
   "outputs": [],
   "source": [
    "Rating = []\n",
    "Review = []\n",
    "RevDes = []"
   ]
  },
  {
   "cell_type": "code",
   "execution_count": null,
   "id": "cfc498d8",
   "metadata": {},
   "outputs": [],
   "source": [
    "Rating_tags = driver.find_elements_by_xpath(\"//div[@class='_3LWZlK _1BLPMq']\")\n",
    "Rating_tags[0:10]\n",
    "for i in Rating_tags:\n",
    "    title=i.text\n",
    "    Rating.append(title)\n",
    "Rating[0:10]"
   ]
  },
  {
   "cell_type": "code",
   "execution_count": null,
   "id": "b2c87388",
   "metadata": {},
   "outputs": [],
   "source": [
    "Review_tags = driver.find_elements_by_xpath(\"//p[@class='_2-N8zT']\")\n",
    "Review_tags[0:10]\n",
    "for i in Review_tags:\n",
    "    title=i.text\n",
    "    Review.append(title)\n",
    "Review[0:10]"
   ]
  },
  {
   "cell_type": "code",
   "execution_count": null,
   "id": "19f4653e",
   "metadata": {},
   "outputs": [],
   "source": [
    "RevDes_tags = driver.find_elements_by_xpath(\"//div[@class='t-ZTKy']\")\n",
    "RevDes_tags[0:10]\n",
    "for i in RevDes_tags:\n",
    "    title=i.text\n",
    "    RevDes.append(title)\n",
    "RevDes[0:10]"
   ]
  },
  {
   "cell_type": "code",
   "execution_count": null,
   "id": "8e01994c",
   "metadata": {},
   "outputs": [],
   "source": [
    "Product_reviews = pd.DataFrame({})\n",
    "Product_reviews['Rating'] = Rating[0:10]\n",
    "Product_reviews['Review'] = Review[0:10]\n",
    "Product_reviews['RevDes'] = RevDes[0:10]\n",
    "Product_reviews"
   ]
  },
  {
   "cell_type": "code",
   "execution_count": null,
   "id": "99ffb106",
   "metadata": {},
   "outputs": [],
   "source": [
    "driver.close()"
   ]
  },
  {
   "cell_type": "code",
   "execution_count": null,
   "id": "ec9307e9",
   "metadata": {},
   "outputs": [],
   "source": [
    "##Q8: Scrape data for first 100 sneakers you find when you visit flipkart.com and search for “sneakers” in the search field."
   ]
  },
  {
   "cell_type": "code",
   "execution_count": null,
   "id": "d79eb21f",
   "metadata": {},
   "outputs": [],
   "source": [
    "driver = webdriver.Chrome(\"C:/Users/Admin/Documents/Internship/chromedriver_win32/chromedriver.exe\")"
   ]
  },
  {
   "cell_type": "code",
   "execution_count": null,
   "id": "64a2a777",
   "metadata": {},
   "outputs": [],
   "source": [
    "##Iterating the same snippets as in question-6 exect the keyword search\n",
    "driver.get(\"https://www.flipkart.com/\")"
   ]
  },
  {
   "cell_type": "code",
   "execution_count": null,
   "id": "a8ef81df",
   "metadata": {},
   "outputs": [],
   "source": [
    "Prod = driver.find_element_by_xpath(\"//input[@type='text']\")\n",
    "Prod.send_keys(\"Sneakers\")\n",
    "search_button = driver.find_element_by_xpath(\"//button[@class = 'L0Z3Pu']\")\n",
    "search_button.click()"
   ]
  },
  {
   "cell_type": "code",
   "execution_count": null,
   "id": "922607f4",
   "metadata": {},
   "outputs": [],
   "source": [
    "url = []\n",
    "for i in driver.find_elements_by_xpath(\"//a[@class='_2UzuFa']\"):\n",
    "    url.append(i.get_attribute('href'))\n",
    "url"
   ]
  },
  {
   "cell_type": "code",
   "execution_count": null,
   "id": "c83923fa",
   "metadata": {},
   "outputs": [],
   "source": [
    "Brand = []\n",
    "Desc = []\n",
    "Price = []\n",
    "Discount = []"
   ]
  },
  {
   "cell_type": "code",
   "execution_count": null,
   "id": "89e544c8",
   "metadata": {},
   "outputs": [],
   "source": [
    "import time\n",
    "for i in url:\n",
    "    driver.get(i)\n",
    "    time.sleep(5)\n",
    "    \n",
    "##Brand\n",
    "    try:\n",
    "        Brnd = driver.find_element_by_xpath(\"//span[@class = 'G6XhRU']\")\n",
    "        Brand.append(brnd.text.strip())\n",
    "    except:\n",
    "        Brand.append('_')\n",
    "        \n",
    "##Description        \n",
    "    try:\n",
    "        Des = driver.find_element_by_xpath(\"//span[@class = 'B_NuCI']\") ##use @ inside the bracket for results\n",
    "        Desc.append(Des.text.strip())\n",
    "    except:\n",
    "        Desc.append('_')\n",
    "    \n",
    "##Price\n",
    "    try:\n",
    "        Pric = driver.find_element_by_xpath(\"//div[@class = '_30jeq3 _16Jk6d']\") ##use @ inside the bracket for results\n",
    "        Price.append(Pric.text.strip())\n",
    "    except:\n",
    "        Price.append('_')\n",
    "    \n",
    "##Discount    \n",
    "    try:\n",
    "        Discoun = driver.find_element_by_xpath(\"//div[@class = '_3Ay6Sb _31Dcoz pZkvcx']\") ##use @ inside the bracket for results\n",
    "        Discount.append(Discoun.text.strip())\n",
    "    except:\n",
    "        Discount.append('_')\n",
    "##Codes are perfect run snippets saperately to get the desired results"
   ]
  },
  {
   "cell_type": "code",
   "execution_count": null,
   "id": "e7aa87ef",
   "metadata": {},
   "outputs": [],
   "source": [
    "Sneakers = pd.DataFrame({})\n",
    "Sneakers['Brand'] = Brand[0:10]\n",
    "Sneakers['Desc'] = Desc[0:10]\n",
    "Sneakers['Price'] = Price[0:10]\n",
    "Sneakers['Discount'] = Discount[0:10]\n",
    "Sneakers"
   ]
  },
  {
   "cell_type": "code",
   "execution_count": null,
   "id": "72249d0d",
   "metadata": {},
   "outputs": [],
   "source": [
    "driver.close()"
   ]
  },
  {
   "cell_type": "code",
   "execution_count": null,
   "id": "3f78505d",
   "metadata": {},
   "outputs": [],
   "source": [
    "##Q9: Go to the link - https://www.myntra.com/shoes"
   ]
  },
  {
   "cell_type": "code",
   "execution_count": null,
   "id": "43dbfa02",
   "metadata": {},
   "outputs": [],
   "source": [
    "driver = webdriver.Chrome(\"C:/Users/Admin/Documents/Internship/chromedriver_win32/chromedriver.exe\")"
   ]
  },
  {
   "cell_type": "code",
   "execution_count": null,
   "id": "c2203423",
   "metadata": {},
   "outputs": [],
   "source": [
    "driver.get(\"https://www.myntra.com/shoes\")"
   ]
  },
  {
   "cell_type": "code",
   "execution_count": null,
   "id": "cb5a60b5",
   "metadata": {},
   "outputs": [],
   "source": [
    "fltr_btn = driver.find_elements_by_xpath(\"//label[@class = 'common-customCheckbox vertical-filters-label']\")\n",
    "for i in fltr_btn:\n",
    "    if i.text == 'Rs. 6897 to Rs. 13595':\n",
    "        i.click()\n",
    "        break"
   ]
  },
  {
   "cell_type": "code",
   "execution_count": null,
   "id": "de0bf790",
   "metadata": {},
   "outputs": [],
   "source": [
    "fltr_btn = driver.find_elements_by_xpath(\"//li[@class = 'colour-listItem']\")\n",
    "for i in fltr_btn:\n",
    "    if i.text == 'Black':\n",
    "        i.click()\n",
    "        break"
   ]
  },
  {
   "cell_type": "code",
   "execution_count": null,
   "id": "2296cd4f",
   "metadata": {},
   "outputs": [],
   "source": [
    "Brand = []\n",
    "Desc = []\n",
    "Price = []"
   ]
  },
  {
   "cell_type": "code",
   "execution_count": null,
   "id": "8849a0e5",
   "metadata": {},
   "outputs": [],
   "source": [
    "Brand_tags = driver.find_elements_by_xpath(\"//h3[@class='product-brand']\")\n",
    "Brand_tags[0:10]\n",
    "for i in Brand_tags:\n",
    "    title=i.text\n",
    "    Brand.append(title)\n",
    "Brand[0:10]"
   ]
  },
  {
   "cell_type": "code",
   "execution_count": null,
   "id": "ddc51290",
   "metadata": {},
   "outputs": [],
   "source": [
    "Desc_tags = driver.find_elements_by_xpath(\"//h4[@class='product-product']\")\n",
    "Desc_tags[0:10]\n",
    "for i in Desc_tags:\n",
    "    title=i.text\n",
    "    Desc.append(title)\n",
    "Desc[0:10]"
   ]
  },
  {
   "cell_type": "code",
   "execution_count": null,
   "id": "bcaaf93e",
   "metadata": {},
   "outputs": [],
   "source": [
    "Price_tags = driver.find_elements_by_xpath(\"//span[@class='product-discountedPrice']\")\n",
    "Price_tags[0:10]\n",
    "for i in Price_tags:\n",
    "    title=i.text\n",
    "    Price.append(title)\n",
    "Price[0:10]"
   ]
  },
  {
   "cell_type": "code",
   "execution_count": null,
   "id": "aeebe0f5",
   "metadata": {},
   "outputs": [],
   "source": [
    "Shoes = pd.DataFrame({})\n",
    "Shoes['Brand'] = Brand[0:10]\n",
    "Shoes['Desc'] = Desc[0:10]\n",
    "Shoes['Price'] = Price[0:10]\n",
    "Shoes"
   ]
  },
  {
   "cell_type": "code",
   "execution_count": null,
   "id": "0635a112",
   "metadata": {},
   "outputs": [],
   "source": [
    "#Q10: Go to webpage https://www.amazon.in/"
   ]
  },
  {
   "cell_type": "code",
   "execution_count": null,
   "id": "6c36da2a",
   "metadata": {},
   "outputs": [],
   "source": [
    "driver = webdriver.Chrome(\"C:/Users/Admin/Documents/Internship/chromedriver_win32/chromedriver.exe\")"
   ]
  },
  {
   "cell_type": "code",
   "execution_count": null,
   "id": "538323ae",
   "metadata": {},
   "outputs": [],
   "source": [
    "driver.get(\"https://www.amazon.in/\")"
   ]
  },
  {
   "cell_type": "code",
   "execution_count": null,
   "id": "e6b6e151",
   "metadata": {},
   "outputs": [],
   "source": [
    "search_job = driver.find_element_by_id('twotabsearchtextbox')\n",
    "search_job.send_keys(\"Laptop\")\n",
    "search_button = driver.find_element_by_xpath(\"//input[@id = 'nav-search-submit-button']\")\n",
    "search_button.click()"
   ]
  },
  {
   "cell_type": "code",
   "execution_count": null,
   "id": "bde9270a",
   "metadata": {},
   "outputs": [],
   "source": [
    "fltr_btn = driver.find_elements_by_xpath(\"//span[@class = 'a-list-item']\")\n",
    "for i in fltr_btn:\n",
    "    if i.text == 'Intel Core i7':\n",
    "        i.click()\n",
    "        break"
   ]
  },
  {
   "cell_type": "code",
   "execution_count": null,
   "id": "61b09d5f",
   "metadata": {},
   "outputs": [],
   "source": [
    "fltr_btn = driver.find_elements_by_xpath(\"//span[@class = 'a-list-item']\")\n",
    "for i in fltr_btn:\n",
    "    if i.text == 'Intel Core i9':\n",
    "        i.click()\n",
    "        break"
   ]
  },
  {
   "cell_type": "code",
   "execution_count": null,
   "id": "191e005d",
   "metadata": {},
   "outputs": [],
   "source": [
    "Title = []\n",
    "Ratings = []\n",
    "Price = []"
   ]
  },
  {
   "cell_type": "code",
   "execution_count": null,
   "id": "3a9fb563",
   "metadata": {},
   "outputs": [],
   "source": [
    "Title_tags = driver.find_elements_by_xpath(\"//h2[@class='a-size-mini a-spacing-none a-color-base s-line-clamp-2']\")\n",
    "Title_tags[0:10]\n",
    "for i in Title_tags:\n",
    "    title=i.text\n",
    "    Title.append(title)\n",
    "Title[0:10]"
   ]
  },
  {
   "cell_type": "code",
   "execution_count": null,
   "id": "d70b3f90",
   "metadata": {},
   "outputs": [],
   "source": [
    "Ratings_tags = driver.find_elements_by_xpath(\"//div[@class='a-row a-size-small']\")\n",
    "Ratings_tags[0:10]\n",
    "for i in Ratings_tags:\n",
    "    title=i.text\n",
    "    Ratings.append(title)\n",
    "Ratings[0:10]"
   ]
  },
  {
   "cell_type": "code",
   "execution_count": null,
   "id": "061d95c6",
   "metadata": {},
   "outputs": [],
   "source": [
    "\n",
    "Price_tags = driver.find_elements_by_xpath(\"//span[@class='a-price-whole']\")\n",
    "Price_tags[0:10]\n",
    "for i in Price_tags:\n",
    "    title=i.text\n",
    "    Price.append(title)\n",
    "Price[0:10]"
   ]
  },
  {
   "cell_type": "code",
   "execution_count": null,
   "id": "2a3da9e8",
   "metadata": {},
   "outputs": [],
   "source": [
    "Laptop = pd.DataFrame({})\n",
    "Laptop['Title'] = Title[0:10]\n",
    "Laptop['Ratings'] = Ratings[0:10]\n",
    "Laptop['Price'] = Price[0:10]\n",
    "Laptop"
   ]
  },
  {
   "cell_type": "code",
   "execution_count": null,
   "id": "a861cec4",
   "metadata": {},
   "outputs": [],
   "source": [
    "driver.close()"
   ]
  }
 ],
 "metadata": {
  "kernelspec": {
   "display_name": "Python 3",
   "language": "python",
   "name": "python3"
  },
  "language_info": {
   "codemirror_mode": {
    "name": "ipython",
    "version": 3
   },
   "file_extension": ".py",
   "mimetype": "text/x-python",
   "name": "python",
   "nbconvert_exporter": "python",
   "pygments_lexer": "ipython3",
   "version": "3.8.8"
  }
 },
 "nbformat": 4,
 "nbformat_minor": 5
}
